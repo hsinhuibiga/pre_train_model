{
 "cells": [
  {
   "cell_type": "code",
   "execution_count": 8,
   "metadata": {
    "colab": {
     "base_uri": "https://localhost:8080/"
    },
    "id": "I7M2ix8SG49X",
    "outputId": "0bf63208-0c82-4db6-ec53-f12764d85595"
   },
   "outputs": [
    {
     "name": "stdout",
     "output_type": "stream",
     "text": [
      "9\n",
      "9\n"
     ]
    }
   ],
   "source": [
    "def outter(a,b):\n",
    "  def inner(x):         # Python 函式內部可以定義其他函式\n",
    "      y = a*x + b\n",
    "      return y\n",
    "  return inner          # 傳回值可以是函式\n",
    "\n",
    "f = outter(2,3)         # r 為函式\n",
    "s = f(3)\n",
    "print(s)\n",
    "\n",
    "t = outter(2,3)(3)      # outter(2,3) 為函式\n",
    "print(t)"
   ]
  },
  {
   "cell_type": "code",
   "execution_count": null,
   "metadata": {
    "id": "13GTzm5JNlJ7"
   },
   "outputs": [],
   "source": []
  }
 ],
 "metadata": {
  "colab": {
   "name": "Python函式進階用法.ipynb",
   "provenance": []
  },
  "kernelspec": {
   "display_name": "Python 3 (ipykernel)",
   "language": "python",
   "name": "python3"
  },
  "language_info": {
   "codemirror_mode": {
    "name": "ipython",
    "version": 3
   },
   "file_extension": ".py",
   "mimetype": "text/x-python",
   "name": "python",
   "nbconvert_exporter": "python",
   "pygments_lexer": "ipython3",
   "version": "3.9.13"
  }
 },
 "nbformat": 4,
 "nbformat_minor": 1
}

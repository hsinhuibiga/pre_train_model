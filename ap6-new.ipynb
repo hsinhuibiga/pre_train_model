{
 "cells": [
  {
   "cell_type": "markdown",
   "metadata": {},
   "source": [
    "# 應用場景3:使用 EfficientNet 遷移學習進行狗品種辨識"
   ]
  },
  {
   "cell_type": "markdown",
   "metadata": {},
   "source": [
    "### 以下程式執行時，請開啟GPU"
   ]
  },
  {
   "cell_type": "code",
   "execution_count": null,
   "metadata": {
    "execution": {
     "iopub.status.busy": "2022-01-15T08:03:35.031824Z",
     "iopub.status.idle": "2022-01-15T08:03:35.033830Z",
     "shell.execute_reply": "2022-01-15T08:03:35.033580Z",
     "shell.execute_reply.started": "2022-01-15T08:03:35.033552Z"
    }
   },
   "outputs": [],
   "source": [
    "# IMG_SIZE 的大小和所選擇的EfficientNet有關，本範例使用 EfficientNetB0，其影像輸入大小為224X224\n",
    "IMG_SIZE = 224"
   ]
  },
  {
   "cell_type": "markdown",
   "metadata": {},
   "source": [
    "### 載入資料集"
   ]
  },
  {
   "cell_type": "code",
   "execution_count": null,
   "metadata": {
    "execution": {
     "iopub.execute_input": "2022-01-15T08:03:38.720511Z",
     "iopub.status.busy": "2022-01-15T08:03:38.719809Z"
    }
   },
   "outputs": [],
   "source": [
    "import tensorflow as tf               # 載入tensorflow 模組\n",
    "import tensorflow_datasets as tfds    # 載入tensorflow dataset 模組\n",
    "\n",
    "batch_size = 64                       # mini-batch 大小為64\n",
    "\n",
    "dataset_name = \"stanford_dogs\"        # 所選擇的資料集為 stanford dog dataests\n",
    "\n",
    "(ds_train, ds_test), ds_info = tfds.load(\n",
    "    dataset_name, split=[\"train\", \"test\"], with_info=True, as_supervised=True  # 載入資料集\n",
    ")\n",
    "NUM_CLASSES = ds_info.features[\"label\"].num_classes  # 使用 ds_info 取得類別數量\n"
   ]
  },
  {
   "cell_type": "code",
   "execution_count": null,
   "metadata": {},
   "outputs": [],
   "source": [
    "size = (IMG_SIZE, IMG_SIZE)   # 影像大小設為 224X224\n",
    "ds_train = ds_train.map(lambda image, label: (tf.image.resize(image, size), label)) # 將訓練資料集影像大小調整成符合網路輸入大小\n",
    "ds_test = ds_test.map(lambda image, label: (tf.image.resize(image, size), label))   # 將測試資料集影像大小調整成符合網路輸入大小"
   ]
  },
  {
   "cell_type": "markdown",
   "metadata": {},
   "source": [
    "### 資料視覺化¶"
   ]
  },
  {
   "cell_type": "code",
   "execution_count": null,
   "metadata": {
    "execution": {
     "iopub.execute_input": "2022-01-15T07:47:34.845563Z",
     "iopub.status.busy": "2022-01-15T07:47:34.844972Z",
     "iopub.status.idle": "2022-01-15T07:47:35.383585Z",
     "shell.execute_reply": "2022-01-15T07:47:35.38175Z",
     "shell.execute_reply.started": "2022-01-15T07:47:34.84552Z"
    }
   },
   "outputs": [],
   "source": [
    "import matplotlib.pyplot as plt # 載入matplotlib模組\n",
    "\n",
    "# 將label由整數轉成字串\n",
    "def format_label(label): \n",
    "    string_label = label_info.int2str(label)\n",
    "    return string_label.split(\"-\")[1]\n",
    "\n",
    "# 顯示圖片內容及標籤\n",
    "label_info = ds_info.features[\"label\"]\n",
    "for i, (image, label) in enumerate(ds_train.take(9)):\n",
    "    ax = plt.subplot(3, 3, i + 1)\n",
    "    plt.imshow(image.numpy().astype(\"uint8\"))\n",
    "    plt.title(\"{}\".format(format_label(label)))\n",
    "    plt.axis(\"off\")"
   ]
  },
  {
   "cell_type": "markdown",
   "metadata": {},
   "source": [
    "### 資料擴增¶"
   ]
  },
  {
   "cell_type": "code",
   "execution_count": null,
   "metadata": {
    "execution": {
     "iopub.execute_input": "2022-01-15T06:45:44.822111Z",
     "iopub.status.busy": "2022-01-15T06:45:44.821469Z",
     "iopub.status.idle": "2022-01-15T06:45:45.698779Z",
     "shell.execute_reply": "2022-01-15T06:45:45.698005Z",
     "shell.execute_reply.started": "2022-01-15T06:45:44.822077Z"
    }
   },
   "outputs": [],
   "source": [
    "from tensorflow.keras.models import Sequential\n",
    "from tensorflow.keras import layers\n",
    "\n",
    "img_augmentation = Sequential(\n",
    "    [\n",
    "        layers.RandomRotation(factor=0.15), # 隨機旋轉\n",
    "        layers.RandomTranslation(height_factor=0.1, width_factor=0.1), # 隨機平移\n",
    "        layers.RandomFlip(), # 隨機翻轉\n",
    "        layers.RandomContrast(factor=0.1), #隨機對比增強\n",
    "    ],\n",
    "    name=\"img_augmentation\",\n",
    ")"
   ]
  },
  {
   "cell_type": "markdown",
   "metadata": {},
   "source": []
  },
  {
   "cell_type": "code",
   "execution_count": null,
   "metadata": {
    "execution": {
     "iopub.execute_input": "2022-01-15T06:45:50.358502Z",
     "iopub.status.busy": "2022-01-15T06:45:50.358214Z",
     "iopub.status.idle": "2022-01-15T06:45:51.311071Z",
     "shell.execute_reply": "2022-01-15T06:45:51.310365Z",
     "shell.execute_reply.started": "2022-01-15T06:45:50.358467Z"
    }
   },
   "outputs": [],
   "source": [
    "for image, label in ds_train.take(1):\n",
    "    for i in range(9):  # 隨機產生九張經過 img_augmentation的影像\n",
    "        ax = plt.subplot(3, 3, i + 1)\n",
    "        aug_img = img_augmentation(tf.expand_dims(image, axis=0))\n",
    "        plt.imshow(aug_img[0].numpy().astype(\"uint8\"))\n",
    "        plt.title(\"{}\".format(format_label(label)))\n",
    "        plt.axis(\"off\")\n"
   ]
  },
  {
   "cell_type": "markdown",
   "metadata": {},
   "source": [
    "### 預備資料輸入¶"
   ]
  },
  {
   "cell_type": "code",
   "execution_count": null,
   "metadata": {
    "execution": {
     "iopub.execute_input": "2022-01-15T06:45:58.564498Z",
     "iopub.status.busy": "2022-01-15T06:45:58.563923Z",
     "iopub.status.idle": "2022-01-15T06:45:58.62124Z",
     "shell.execute_reply": "2022-01-15T06:45:58.620585Z",
     "shell.execute_reply.started": "2022-01-15T06:45:58.564429Z"
    }
   },
   "outputs": [],
   "source": [
    "# One-hot / categorical encoding\n",
    "def input_preprocess(image, label):\n",
    "    label = tf.one_hot(label, NUM_CLASSES)\n",
    "    return image, label\n",
    "\n",
    "\n",
    "ds_train = ds_train.map(\n",
    "    input_preprocess, num_parallel_calls=tf.data.AUTOTUNE\n",
    ")\n",
    "ds_train = ds_train.batch(batch_size=batch_size, drop_remainder=True)\n",
    "ds_train = ds_train.prefetch(tf.data.AUTOTUNE)\n",
    "\n",
    "ds_test = ds_test.map(input_preprocess)\n",
    "ds_test = ds_test.batch(batch_size=batch_size, drop_remainder=True)"
   ]
  },
  {
   "cell_type": "markdown",
   "metadata": {},
   "source": [
    "### 訓練歷程繪圖函式"
   ]
  },
  {
   "cell_type": "code",
   "execution_count": null,
   "metadata": {
    "execution": {
     "iopub.execute_input": "2022-01-15T06:46:03.158061Z",
     "iopub.status.busy": "2022-01-15T06:46:03.15743Z",
     "iopub.status.idle": "2022-01-15T06:46:03.163643Z",
     "shell.execute_reply": "2022-01-15T06:46:03.162603Z",
     "shell.execute_reply.started": "2022-01-15T06:46:03.15802Z"
    }
   },
   "outputs": [],
   "source": [
    "import matplotlib.pyplot as plt\n",
    "\n",
    "\n",
    "def plot_hist(hist):\n",
    "    plt.plot(hist.history[\"accuracy\"])\n",
    "    plt.plot(hist.history[\"val_accuracy\"])\n",
    "    plt.title(\"model accuracy\")\n",
    "    plt.ylabel(\"accuracy\")\n",
    "    plt.xlabel(\"epoch\")\n",
    "    plt.legend([\"train\", \"validation\"], loc=\"upper left\")\n",
    "    plt.show()\n"
   ]
  },
  {
   "cell_type": "markdown",
   "metadata": {},
   "source": [
    "### 從預訓練權重進行遷移學習"
   ]
  },
  {
   "cell_type": "code",
   "execution_count": null,
   "metadata": {
    "execution": {
     "iopub.execute_input": "2022-01-15T06:46:06.975717Z",
     "iopub.status.busy": "2022-01-15T06:46:06.975027Z",
     "iopub.status.idle": "2022-01-15T06:46:06.985513Z",
     "shell.execute_reply": "2022-01-15T06:46:06.984631Z",
     "shell.execute_reply.started": "2022-01-15T06:46:06.975674Z"
    }
   },
   "outputs": [],
   "source": [
    "from tensorflow.keras.applications import EfficientNetB0\n",
    "\n",
    "def build_model(num_classes):\n",
    "    inputs = layers.Input(shape=(IMG_SIZE, IMG_SIZE, 3))\n",
    "    x = img_augmentation(inputs)\n",
    "    model = EfficientNetB0(include_top=False, input_tensor=x, weights=\"imagenet\")\n",
    "\n",
    "    # Freeze the pretrained weights\n",
    "    model.trainable = False\n",
    "\n",
    "    # Rebuild top\n",
    "    x = layers.GlobalAveragePooling2D(name=\"avg_pool\")(model.output)\n",
    "    x = layers.BatchNormalization()(x)\n",
    "\n",
    "    top_dropout_rate = 0.2\n",
    "    x = layers.Dropout(top_dropout_rate, name=\"top_dropout\")(x)\n",
    "    outputs = layers.Dense(NUM_CLASSES, activation=\"softmax\", name=\"pred\")(x)\n",
    "\n",
    "    # Compile\n",
    "    model = tf.keras.Model(inputs, outputs, name=\"EfficientNet\")\n",
    "    optimizer = tf.keras.optimizers.Adam(learning_rate=1e-2)\n",
    "    model.compile(\n",
    "        optimizer=optimizer, loss=\"categorical_crossentropy\", metrics=[\"accuracy\"]\n",
    "    )\n",
    "    return model\n"
   ]
  },
  {
   "cell_type": "markdown",
   "metadata": {},
   "source": [
    "### 鎖定基底模型，只訓練最後一層¶"
   ]
  },
  {
   "cell_type": "code",
   "execution_count": null,
   "metadata": {
    "execution": {
     "iopub.execute_input": "2022-01-15T06:47:40.551366Z",
     "iopub.status.busy": "2022-01-15T06:47:40.551093Z",
     "iopub.status.idle": "2022-01-15T07:00:10.715069Z",
     "shell.execute_reply": "2022-01-15T07:00:10.712681Z",
     "shell.execute_reply.started": "2022-01-15T06:47:40.551336Z"
    }
   },
   "outputs": [],
   "source": [
    "model = build_model(num_classes=NUM_CLASSES)\n",
    "\n",
    "epochs = 10  # @param {type: \"slider\", min:8, max:80}\n",
    "hist = model.fit(ds_train, epochs=epochs, validation_data=ds_test, verbose=2)\n",
    "plot_hist(hist)"
   ]
  },
  {
   "cell_type": "markdown",
   "metadata": {},
   "source": [
    "  ### 解除基底模型，訓練最後20層¶"
   ]
  },
  {
   "cell_type": "code",
   "execution_count": null,
   "metadata": {
    "execution": {
     "iopub.execute_input": "2022-01-15T07:00:20.910978Z",
     "iopub.status.busy": "2022-01-15T07:00:20.910728Z",
     "iopub.status.idle": "2022-01-15T07:06:57.939965Z",
     "shell.execute_reply": "2022-01-15T07:06:57.939283Z",
     "shell.execute_reply.started": "2022-01-15T07:00:20.91095Z"
    }
   },
   "outputs": [],
   "source": [
    "def unfreeze_model(model):\n",
    "    # We unfreeze the top 20 layers while leaving BatchNorm layers frozen\n",
    "    for layer in model.layers[-20:]:\n",
    "        if not isinstance(layer, layers.BatchNormalization):\n",
    "            layer.trainable = True\n",
    "\n",
    "    optimizer = tf.keras.optimizers.Adam(learning_rate=1e-4)\n",
    "    model.compile(\n",
    "        optimizer=optimizer, loss=\"categorical_crossentropy\", metrics=[\"accuracy\"]\n",
    "    )\n",
    "\n",
    "\n",
    "unfreeze_model(model)\n",
    "\n",
    "epochs = 10  # @param {type: \"slider\", min:8, max:50}\n",
    "hist = model.fit(ds_train, epochs=epochs, validation_data=ds_test, verbose=2)\n",
    "plot_hist(hist)"
   ]
  },
  {
   "cell_type": "markdown",
   "metadata": {},
   "source": [
    "### 模型存檔¶"
   ]
  },
  {
   "cell_type": "code",
   "execution_count": null,
   "metadata": {
    "execution": {
     "iopub.execute_input": "2022-01-15T07:44:09.52341Z",
     "iopub.status.busy": "2022-01-15T07:44:09.522738Z",
     "iopub.status.idle": "2022-01-15T07:44:09.542305Z",
     "shell.execute_reply": "2022-01-15T07:44:09.541402Z",
     "shell.execute_reply.started": "2022-01-15T07:44:09.523369Z"
    }
   },
   "outputs": [],
   "source": [
    "model.save(\"my-dog-efficientNet\")"
   ]
  },
  {
   "cell_type": "markdown",
   "metadata": {},
   "source": [
    "### 模型載入測試¶"
   ]
  },
  {
   "cell_type": "code",
   "execution_count": null,
   "metadata": {
    "execution": {
     "iopub.execute_input": "2022-01-15T07:08:18.233633Z",
     "iopub.status.busy": "2022-01-15T07:08:18.233337Z",
     "iopub.status.idle": "2022-01-15T07:09:16.272125Z",
     "shell.execute_reply": "2022-01-15T07:09:16.271303Z",
     "shell.execute_reply.started": "2022-01-15T07:08:18.233595Z"
    }
   },
   "outputs": [],
   "source": [
    "import numpy as np \n",
    "\n",
    "reconstructed_model = tf.keras.models.load_model(\"my-dog-efficientNet\")\n",
    "\n",
    "reconstructed_model.fit(ds_train)\n",
    "\n"
   ]
  },
  {
   "cell_type": "markdown",
   "metadata": {},
   "source": [
    "### 壓縮及下載模型供未來使用"
   ]
  },
  {
   "cell_type": "markdown",
   "metadata": {},
   "source": [
    "### 測試模型"
   ]
  },
  {
   "cell_type": "code",
   "execution_count": null,
   "metadata": {
    "execution": {
     "iopub.execute_input": "2022-01-15T07:26:52.039115Z",
     "iopub.status.busy": "2022-01-15T07:26:52.038303Z",
     "iopub.status.idle": "2022-01-15T07:26:54.435343Z",
     "shell.execute_reply": "2022-01-15T07:26:54.434524Z",
     "shell.execute_reply.started": "2022-01-15T07:26:52.039069Z"
    }
   },
   "outputs": [],
   "source": [
    "import tensorflow as tf\n",
    "from tensorflow.keras.preprocessing import image\n",
    "from tensorflow.keras.applications.efficientnet import preprocess_input\n",
    "\n",
    "!wget https://upload.wikimedia.org/wikipedia/commons/f/f8/Full_attention_%288067543690%29.jpg -O test.jpg\n",
    "\n",
    "img_path = 'test.jpg'\n",
    "img = image.load_img(img_path, target_size=(224, 224))\n",
    "x = image.img_to_array(img)\n",
    "x = np.expand_dims(x, axis=0)\n",
    "x = preprocess_input(x)\n",
    "\n",
    "preds = reconstructed_model.predict(x)\n",
    "\n",
    "o = tf.argmax(preds[0])\n",
    "print(format_label(int(o)))"
   ]
  },
  {
   "cell_type": "markdown",
   "metadata": {},
   "source": []
  }
 ],
 "metadata": {
  "kernelspec": {
   "display_name": "Python 3 (ipykernel)",
   "language": "python",
   "name": "python3"
  },
  "language_info": {
   "codemirror_mode": {
    "name": "ipython",
    "version": 3
   },
   "file_extension": ".py",
   "mimetype": "text/x-python",
   "name": "python",
   "nbconvert_exporter": "python",
   "pygments_lexer": "ipython3",
   "version": "3.9.13"
  }
 },
 "nbformat": 4,
 "nbformat_minor": 4
}
